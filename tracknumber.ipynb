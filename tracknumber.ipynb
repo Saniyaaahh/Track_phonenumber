{
  "nbformat": 4,
  "nbformat_minor": 0,
  "metadata": {
    "colab": {
      "provenance": []
    },
    "kernelspec": {
      "name": "python3",
      "display_name": "Python 3"
    },
    "language_info": {
      "name": "python"
    }
  },
  "cells": [
    {
      "cell_type": "code",
      "source": [
        "pip install phonenumbers\n"
      ],
      "metadata": {
        "colab": {
          "base_uri": "https://localhost:8080/"
        },
        "id": "E3dUVV-k_QTR",
        "outputId": "63c4b983-c5cf-4456-ac26-2335ed68bbd0"
      },
      "execution_count": 3,
      "outputs": [
        {
          "output_type": "stream",
          "name": "stdout",
          "text": [
            "Requirement already satisfied: phonenumbers in /usr/local/lib/python3.10/dist-packages (8.13.52)\n"
          ]
        }
      ]
    },
    {
      "cell_type": "code",
      "execution_count": 7,
      "metadata": {
        "colab": {
          "base_uri": "https://localhost:8080/"
        },
        "id": "DZ2zoJCR9siu",
        "outputId": "feeaa683-19b5-4350-aea9-36aefd47e50e"
      },
      "outputs": [
        {
          "output_type": "stream",
          "name": "stdout",
          "text": [
            "Phone Number Tracking System\n",
            "----------------------------\n",
            "Enter the phone number with country code (e.g., +11234567890): +966 536223950\n",
            "Location: Saudi Arabia\n",
            "Carrier: STC\n"
          ]
        }
      ],
      "source": [
        "import phonenumbers\n",
        "from phonenumbers import geocoder, carrier\n",
        "\n",
        "def track_phone_number(phone_number):\n",
        "    \"\"\"Tracks the location and carrier of a given phone number.\"\"\"\n",
        "    try:\n",
        "        parsed_number = phonenumbers.parse(phone_number)\n",
        "\n",
        "        # Get location information\n",
        "        location = geocoder.description_for_number(parsed_number, \"en\")\n",
        "\n",
        "        # Get carrier information\n",
        "        service_provider = carrier.name_for_number(parsed_number, \"en\")\n",
        "\n",
        "        return {\n",
        "            \"Location\": location if location else \"Unknown\",\n",
        "            \"Carrier\": service_provider if service_provider else \"Unknown\"\n",
        "        }\n",
        "\n",
        "    except phonenumbers.NumberParseException:\n",
        "        return {\n",
        "            \"Error\": \"Invalid phone number format. Please include the country code (e.g., +1 for USA).\"\n",
        "        }\n",
        "\n",
        "if __name__ == \"__main__\":  # Corrected this line\n",
        "    print(\"Phone Number Tracking System\")\n",
        "    print(\"----------------------------\")\n",
        "\n",
        "    # Get user input\n",
        "    phone_number = input(\"Enter the phone number with country code (e.g., +11234567890): \")\n",
        "\n",
        "    # Track the phone number\n",
        "    result = track_phone_number(phone_number)\n",
        "\n",
        "    # Display the result\n",
        "    for key, value in result.items():\n",
        "        print(f\"{key}: {value}\")\n"
      ]
    }
  ]
}